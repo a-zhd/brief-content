{
 "cells": [
  {
   "cell_type": "code",
   "execution_count": 1,
   "metadata": {},
   "outputs": [],
   "source": [
    "from topic_modeling_functions import *\n",
    "\n",
    "pd.set_option('display.max_colwidth', -1)"
   ]
  },
  {
   "cell_type": "code",
   "execution_count": 2,
   "metadata": {},
   "outputs": [],
   "source": [
    "tfidf_vect = TfidfVectorizer(lowercase=False, tokenizer=lambda r: r)"
   ]
  },
  {
   "cell_type": "markdown",
   "metadata": {},
   "source": [
    "Загрузим данные:"
   ]
  },
  {
   "cell_type": "code",
   "execution_count": 3,
   "metadata": {},
   "outputs": [],
   "source": [
    "df_countries = pd.read_pickle('countries_topic_modeling.pkl')"
   ]
  },
  {
   "cell_type": "markdown",
   "metadata": {},
   "source": [
    "Посчитаем количество:"
   ]
  },
  {
   "cell_type": "code",
   "execution_count": 4,
   "metadata": {},
   "outputs": [
    {
     "data": {
      "text/plain": [
       "45"
      ]
     },
     "execution_count": 4,
     "metadata": {},
     "output_type": "execute_result"
    }
   ],
   "source": [
    "df_countries['country'].count()"
   ]
  },
  {
   "cell_type": "code",
   "execution_count": 5,
   "metadata": {},
   "outputs": [
    {
     "data": {
      "text/plain": [
       "0     18 век         \n",
       "1     19 век         \n",
       "2     Австралийская  \n",
       "3     Австрийская    \n",
       "4     Аргентинская   \n",
       "5     Армянская      \n",
       "6     Белорусская    \n",
       "7     Бельгийская    \n",
       "8     Бразильская    \n",
       "9     Британская     \n",
       "10    Гватемальская  \n",
       "11    Грузинская     \n",
       "12    Датская        \n",
       "13    Древнегреческая\n",
       "14    Древнеримская  \n",
       "15    Древность      \n",
       "16    Еврейская      \n",
       "17    Индийская      \n",
       "18    Ирландская     \n",
       "19    Исландская     \n",
       "20    Испанская      \n",
       "21    Итальянская    \n",
       "22    Китайская      \n",
       "23    Колумбийская   \n",
       "24    Кубинская      \n",
       "25    Немецкая       \n",
       "26    Нидерландская  \n",
       "27    Норвежская     \n",
       "28    Персидская     \n",
       "29    Польская       \n",
       "30    Португальская  \n",
       "31    США            \n",
       "32    Советская      \n",
       "33    Современная    \n",
       "34    Турецкая       \n",
       "35    Украинская     \n",
       "36    Финская        \n",
       "37    Французская    \n",
       "38    Чешская        \n",
       "39    Чилийская      \n",
       "40    Шведская       \n",
       "41    Швейцарская    \n",
       "42    Шотландская    \n",
       "43    Югославская    \n",
       "44    Японская       \n",
       "Name: country, dtype: object"
      ]
     },
     "execution_count": 5,
     "metadata": {},
     "output_type": "execute_result"
    }
   ],
   "source": [
    "df_countries['country']"
   ]
  },
  {
   "cell_type": "markdown",
   "metadata": {},
   "source": [
    "Выберем литературу, с которой будем работать (в переменную ```index``` запишем индекс из списка выше, соответствующий нужной литературе):"
   ]
  },
  {
   "cell_type": "code",
   "execution_count": 6,
   "metadata": {},
   "outputs": [],
   "source": [
    "index = 0\n",
    "df_selected = df_countries.iloc[index]"
   ]
  },
  {
   "cell_type": "markdown",
   "metadata": {},
   "source": [
    "Преобразуем тексты в вектора с помощью TfidfVectorizer:  \n",
    "http://scikit-learn.org/stable/modules/generated/sklearn.feature_extraction.text.TfidfVectorizer.html"
   ]
  },
  {
   "cell_type": "code",
   "execution_count": 7,
   "metadata": {},
   "outputs": [],
   "source": [
    "tfidf_data, tfidf_feature_names = get_data_vectorized(tfidf_vect, df_selected.text_pymystem_list)"
   ]
  },
  {
   "cell_type": "markdown",
   "metadata": {},
   "source": [
    "Выберем интервал для количества топиков, которые хотим получить:  \n",
    "* ```start``` - минимальное количество топиков\n",
    "* ```stop``` - максимальное количество топиков + 1\n",
    "* ```step``` - шаг (например, если при заданных значениях ```start``` и ```stop``` мы хотим посмотреть результаты для количества топиков 5, 10, 15, 20, то выбираем ```step``` = 5)"
   ]
  },
  {
   "cell_type": "code",
   "execution_count": 8,
   "metadata": {},
   "outputs": [],
   "source": [
    "start = 5  # min n_topics\n",
    "stop = 21  # max n_topics + 1\n",
    "step = 1"
   ]
  },
  {
   "cell_type": "markdown",
   "metadata": {},
   "source": [
    "Создадим и обучим модели для выбранного интервала значений:"
   ]
  },
  {
   "cell_type": "code",
   "execution_count": 9,
   "metadata": {},
   "outputs": [],
   "source": [
    "nmf_res = get_models_for_n_topics('nmf', tfidf_data, start, stop, step)"
   ]
  },
  {
   "cell_type": "markdown",
   "metadata": {},
   "source": [
    "Зададим количество слов для каждого топика, которые хотим получить:"
   ]
  },
  {
   "cell_type": "code",
   "execution_count": 10,
   "metadata": {},
   "outputs": [],
   "source": [
    "n_top_words = 10"
   ]
  },
  {
   "cell_type": "markdown",
   "metadata": {},
   "source": [
    "Получим нужное количество слов для каждого топика:"
   ]
  },
  {
   "cell_type": "code",
   "execution_count": 11,
   "metadata": {},
   "outputs": [],
   "source": [
    "nmf_topics = get_n_top_words(nmf_res, tfidf_feature_names, n_top_words)"
   ]
  },
  {
   "cell_type": "markdown",
   "metadata": {},
   "source": [
    "Создадим датафрейм из полученных результатов:"
   ]
  },
  {
   "cell_type": "code",
   "execution_count": 12,
   "metadata": {},
   "outputs": [],
   "source": [
    "df_results = pd.Series(nmf_topics, index=get_index(start, min(tfidf_data.shape[0] + 1, stop), step))"
   ]
  },
  {
   "cell_type": "markdown",
   "metadata": {},
   "source": [
    "Выберем нужное количество топиков из интервала, который мы задавали ранее:  \n",
    "(в ```n_topics_5``` заменим ```5``` на нужное число)"
   ]
  },
  {
   "cell_type": "code",
   "execution_count": 13,
   "metadata": {},
   "outputs": [
    {
     "data": {
      "text/plain": [
       "n_topic_1    [герой, корабль, замок, молодой, остров, борнгольм, человек, старец, ветер, ребенок]            \n",
       "n_topic_2    [рурик, вадим, рамида, пренеста, новгород, пренест, извед, вигор, народ, венец]                 \n",
       "n_topic_3    [анюта, мельник, виктор, филат, фетинья, филимона, филимон, анкудин, мирон, крестьянин]         \n",
       "n_topic_4    [верхолет, полист, простодум, милена, честон, марина, чванкина, чванкин, замира, замир]         \n",
       "n_topic_5    [иванушка, советник, советница, бригадир, софья, бригадирша, добролюбов, иван, авдотья, акулина]\n",
       "dtype: object"
      ]
     },
     "execution_count": 13,
     "metadata": {},
     "output_type": "execute_result"
    }
   ],
   "source": [
    "df_results.loc['n_topics_5']"
   ]
  },
  {
   "cell_type": "markdown",
   "metadata": {},
   "source": [
    "Выберем номер топика для нужного количества топиков (в ```n_topics_5``` заменим ```5``` на нужное количество топиков и в ```n_topic_1``` заменим ```1``` на нужный номер топика):"
   ]
  },
  {
   "cell_type": "code",
   "execution_count": 14,
   "metadata": {},
   "outputs": [
    {
     "data": {
      "text/plain": [
       "['герой',\n",
       " 'корабль',\n",
       " 'замок',\n",
       " 'молодой',\n",
       " 'остров',\n",
       " 'борнгольм',\n",
       " 'человек',\n",
       " 'старец',\n",
       " 'ветер',\n",
       " 'ребенок']"
      ]
     },
     "execution_count": 14,
     "metadata": {},
     "output_type": "execute_result"
    }
   ],
   "source": [
    "df_results.loc[('n_topics_5', 'n_topic_1')]"
   ]
  },
  {
   "cell_type": "markdown",
   "metadata": {},
   "source": [
    "Сохраним полученные результаты в файл .tsv (названием файла служит название литературы, а разделителем -- табуляция ```\\t```):"
   ]
  },
  {
   "cell_type": "code",
   "execution_count": 15,
   "metadata": {},
   "outputs": [],
   "source": [
    "df_results.to_csv(df_selected['country'] + '.tsv', sep='\\t')"
   ]
  },
  {
   "cell_type": "markdown",
   "metadata": {},
   "source": [
    "Если хотим транслитерировать название файла, то скачиваем и импортируем модуль ```transliterate``` https://pypi.org/project/transliterate/, а затем применяем функцию ```translit``` к названию литературы (заменяя пробелы на нижние подчеркивания ```_``` и убирая ```'```):"
   ]
  },
  {
   "cell_type": "code",
   "execution_count": 16,
   "metadata": {},
   "outputs": [],
   "source": [
    "from transliterate import translit"
   ]
  },
  {
   "cell_type": "code",
   "execution_count": 17,
   "metadata": {},
   "outputs": [],
   "source": [
    "transliterated = translit(df_selected['country'].replace(' ', '_'), 'ru', reversed=True).replace(\"'\", '')\n",
    "df_results.to_csv(transliterated + '.tsv', sep='\\t')"
   ]
  }
 ],
 "metadata": {
  "kernelspec": {
   "display_name": "Python 3",
   "language": "python",
   "name": "python3"
  },
  "language_info": {
   "codemirror_mode": {
    "name": "ipython",
    "version": 3
   },
   "file_extension": ".py",
   "mimetype": "text/x-python",
   "name": "python",
   "nbconvert_exporter": "python",
   "pygments_lexer": "ipython3",
   "version": "3.5.2"
  }
 },
 "nbformat": 4,
 "nbformat_minor": 2
}
